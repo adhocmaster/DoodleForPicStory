{
 "cells": [
  {
   "cell_type": "code",
   "execution_count": 1,
   "metadata": {},
   "outputs": [
    {
     "name": "stdout",
     "output_type": "stream",
     "text": [
      "current working dirC:\\TFModels\\DoodleForPicStory\n"
     ]
    },
    {
     "name": "stderr",
     "output_type": "stream",
     "text": [
      "Using TensorFlow backend.\n",
      "WARNING:root:Limiting GPU to 0.8. Increase it in initKeras.py. Next is available GPUs\n",
      "WARNING:root:['/job:localhost/replica:0/task:0/device:GPU:0']\n",
      "WARNING:root:LivePlotKeras loaded\n"
     ]
    }
   ],
   "source": [
    "exec(open(\"inc_notebook_jawad.py\").read())\n",
    "import logging, sys, math,os\n",
    "from datetime import datetime\n",
    "exec(open(\"classifiers/initKeras.py\").read())\n",
    "\n",
    "%matplotlib inline\n",
    "dataStatsDate = datetime(2019, 11, 21)\n",
    "\n",
    "\n",
    "exec(open(\"classifiers/incDoodleClassifier.py\").read())"
   ]
  },
  {
   "cell_type": "code",
   "execution_count": 2,
   "metadata": {},
   "outputs": [],
   "source": [
    "model = classifierFactory.create(\n",
    "    template = 'Basic',\n",
    "    outputClasses = dataStats.stats['countClasses'],\n",
    "    inputShape = (28, 28, 1)\n",
    ")"
   ]
  },
  {
   "cell_type": "code",
   "execution_count": 3,
   "metadata": {},
   "outputs": [
    {
     "name": "stdout",
     "output_type": "stream",
     "text": [
      "_________________________________________________________________\n",
      "Layer (type)                 Output Shape              Param #   \n",
      "=================================================================\n",
      "input_1 (InputLayer)         (None, 28, 28, 1)         0         \n",
      "_________________________________________________________________\n",
      "conv2d_1 (Conv2D)            (None, 24, 24, 64)        1664      \n",
      "_________________________________________________________________\n",
      "re_lu_1 (ReLU)               (None, 24, 24, 64)        0         \n",
      "_________________________________________________________________\n",
      "max_pooling2d_1 (MaxPooling2 (None, 12, 12, 64)        0         \n",
      "_________________________________________________________________\n",
      "conv2d_2 (Conv2D)            (None, 8, 8, 64)          102464    \n",
      "_________________________________________________________________\n",
      "max_pooling2d_2 (MaxPooling2 (None, 4, 4, 64)          0         \n",
      "_________________________________________________________________\n",
      "flatten_1 (Flatten)          (None, 1024)              0         \n",
      "_________________________________________________________________\n",
      "dense_1 (Dense)              (None, 1000)              1025000   \n",
      "_________________________________________________________________\n",
      "re_lu_2 (ReLU)               (None, 1000)              0         \n",
      "_________________________________________________________________\n",
      "dropout_1 (Dropout)          (None, 1000)              0         \n",
      "_________________________________________________________________\n",
      "dense_2 (Dense)              (None, 7)                 7007      \n",
      "=================================================================\n",
      "Total params: 1,136,135\n",
      "Trainable params: 1,136,135\n",
      "Non-trainable params: 0\n",
      "_________________________________________________________________\n"
     ]
    }
   ],
   "source": [
    "model.summary()"
   ]
  },
  {
   "cell_type": "code",
   "execution_count": null,
   "metadata": {},
   "outputs": [
    {
     "data": {
      "text/plain": [
       "<Figure size 1440x720 with 0 Axes>"
      ]
     },
     "metadata": {},
     "output_type": "display_data"
    },
    {
     "data": {
      "image/png": "[encoded data removed]",
      "text/plain": [
       "<Figure size 1440x720 with 1 Axes>"
      ]
     },
     "metadata": {
      "needs_background": "light"
     },
     "output_type": "display_data"
    },
    {
     "name": "stdout",
     "output_type": "stream",
     "text": [
      "Epoch 2/10\n",
      " 476/1000 [=============>................] - ETA: 2:18 - loss: 0.0237 - categorical_accuracy: 0.8869 - mean_squared_error: 0.0237"
     ]
    }
   ],
   "source": [
    "history = model.fit_generator( \n",
    "                    generator=trainGenerator,\n",
    "                    validation_data=validationGenerator,\n",
    "                    use_multiprocessing=False, \n",
    "                    workers=3, \n",
    "                    initial_epoch = 0,\n",
    "                    epochs=10,\n",
    "                    max_q_size = 100,\n",
    "                    steps_per_epoch = trainGenerator.n_batches,\n",
    "                    validation_steps = validationGenerator.n_batches,\n",
    "                    callbacks = [livePlotKeras]\n",
    "                   )"
   ]
  },
  {
   "cell_type": "code",
   "execution_count": null,
   "metadata": {},
   "outputs": [],
   "source": []
  }
 ],
 "metadata": {
  "kernelspec": {
   "display_name": "Python 3",
   "language": "python",
   "name": "python3"
  },
  "language_info": {
   "codemirror_mode": {
    "name": "ipython",
    "version": 3
   },
   "file_extension": ".py",
   "mimetype": "text/x-python",
   "name": "python",
   "nbconvert_exporter": "python",
   "pygments_lexer": "ipython3",
   "version": "3.6.9"
  }
 },
 "nbformat": 4,
 "nbformat_minor": 2
}
