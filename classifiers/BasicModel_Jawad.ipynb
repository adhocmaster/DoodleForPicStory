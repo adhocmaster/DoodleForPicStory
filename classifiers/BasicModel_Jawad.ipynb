{
 "cells": [
  {
   "cell_type": "code",
   "execution_count": 1,
   "metadata": {},
   "outputs": [
    {
     "name": "stdout",
     "output_type": "stream",
     "text": [
      "current working dirC:\\TFModels\\DoodleForPicStory\n"
     ]
    },
    {
     "name": "stderr",
     "output_type": "stream",
     "text": [
      "Using TensorFlow backend.\n",
      "WARNING:root:Limiting GPU to 0.8. Increase it in initKeras.py. Next is available GPUs\n",
      "WARNING:root:['/job:localhost/replica:0/task:0/device:GPU:0']\n",
      "WARNING:root:LivePlotKeras loaded\n"
     ]
    }
   ],
   "source": [
    "exec(open(\"inc_notebook_jawad.py\").read())\n",
    "import logging, sys, math,os\n",
    "from datetime import datetime\n",
    "exec(open(\"classifiers/initKeras.py\").read())\n",
    "\n",
    "%matplotlib inline\n",
    "dataStatsDate = datetime(2019, 11, 24)\n",
    "\n",
    "trainClassCache = 100\n",
    "validationClassCache = 0\n",
    "trainBatchesPerEpoch = 10000\n",
    "validationBatchesPerEpoch = 100\n",
    "batch_size = 16\n",
    "\n",
    "exec(open(\"classifiers/incDoodleClassifier.py\").read())"
   ]
  },
  {
   "cell_type": "code",
   "execution_count": 2,
   "metadata": {},
   "outputs": [],
   "source": [
    "model = classifierFactory.create(\n",
    "    template = 'Basic',\n",
    "    outputClasses = dataStats.stats['countClasses'],\n",
    "    inputShape = (28, 28, 1)\n",
    ")"
   ]
  },
  {
   "cell_type": "code",
   "execution_count": 3,
   "metadata": {},
   "outputs": [
    {
     "name": "stdout",
     "output_type": "stream",
     "text": [
      "_________________________________________________________________\n",
      "Layer (type)                 Output Shape              Param #   \n",
      "=================================================================\n",
      "input_1 (InputLayer)         (None, 28, 28, 1)         0         \n",
      "_________________________________________________________________\n",
      "conv2d_1 (Conv2D)            (None, 24, 24, 64)        1664      \n",
      "_________________________________________________________________\n",
      "re_lu_1 (ReLU)               (None, 24, 24, 64)        0         \n",
      "_________________________________________________________________\n",
      "max_pooling2d_1 (MaxPooling2 (None, 12, 12, 64)        0         \n",
      "_________________________________________________________________\n",
      "conv2d_2 (Conv2D)            (None, 8, 8, 64)          102464    \n",
      "_________________________________________________________________\n",
      "max_pooling2d_2 (MaxPooling2 (None, 4, 4, 64)          0         \n",
      "_________________________________________________________________\n",
      "flatten_1 (Flatten)          (None, 1024)              0         \n",
      "_________________________________________________________________\n",
      "dense_1 (Dense)              (None, 1830)              1875750   \n",
      "_________________________________________________________________\n",
      "re_lu_2 (ReLU)               (None, 1830)              0         \n",
      "_________________________________________________________________\n",
      "dropout_1 (Dropout)          (None, 1830)              0         \n",
      "_________________________________________________________________\n",
      "dense_2 (Dense)              (None, 183)               335073    \n",
      "=================================================================\n",
      "Total params: 2,314,951\n",
      "Trainable params: 2,314,951\n",
      "Non-trainable params: 0\n",
      "_________________________________________________________________\n"
     ]
    }
   ],
   "source": [
    "model.summary()"
   ]
  },
  {
   "cell_type": "code",
   "execution_count": null,
   "metadata": {},
   "outputs": [
    {
     "data": {
      "image/png": "[encoded data removed]",
      "text/plain": [
       "<Figure size 1440x720 with 1 Axes>"
      ]
     },
     "metadata": {
      "needs_background": "light"
     },
     "output_type": "display_data"
    },
    {
     "name": "stdout",
     "output_type": "stream",
     "text": [
      "Epoch 4/50\n",
      " 9957/10000 [============================>.] - ETA: 0s - loss: 1.5727 - categorical_accuracy: 0.6198"
     ]
    }
   ],
   "source": [
    "histories = []\n",
    "snapshots = 20\n",
    "startEpoch = 0\n",
    "epochPerSnapshot = 50\n",
    "steps_per_epoch = trainBatchesPerEpoch\n",
    "validation_steps = 100\n",
    "\n",
    "for i in range(snapshots):\n",
    "    \n",
    "    histories.append( model.fit_generator( \n",
    "                        generator=trainGenerator,\n",
    "                        validation_data=validationGenerator,\n",
    "                        use_multiprocessing=False, \n",
    "                        workers=3, \n",
    "                        initial_epoch = startEpoch,\n",
    "                        epochs=epochPerSnapshot,\n",
    "                        max_q_size = 20,\n",
    "                        steps_per_epoch = steps_per_epoch,\n",
    "                        validation_steps = validation_steps,\n",
    "                        callbacks = [livePlotKeras]\n",
    "                       )\n",
    "                    )\n",
    "    startEpoch += epochPerSnapshot\n",
    "    epochPerSnapshot += epochPerSnapshot\n",
    "    classifierIO.save(model, model.name + '-ss2-' + str(i))\n",
    "    pass\n"
   ]
  },
  {
   "cell_type": "code",
   "execution_count": null,
   "metadata": {},
   "outputs": [],
   "source": [
    "# classifierIO.save(model, model.name)"
   ]
  }
 ],
 "metadata": {
  "kernelspec": {
   "display_name": "Python 3",
   "language": "python",
   "name": "python3"
  },
  "language_info": {
   "codemirror_mode": {
    "name": "ipython",
    "version": 3
   },
   "file_extension": ".py",
   "mimetype": "text/x-python",
   "name": "python",
   "nbconvert_exporter": "python",
   "pygments_lexer": "ipython3",
   "version": "3.6.9"
  }
 },
 "nbformat": 4,
 "nbformat_minor": 2
}
