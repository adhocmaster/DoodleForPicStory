{
 "cells": [
  {
   "cell_type": "code",
   "execution_count": 1,
   "metadata": {},
   "outputs": [
    {
     "name": "stdout",
     "output_type": "stream",
     "text": [
      "current working dirC:\\TFModels\\DoodleForPicStory\n"
     ]
    }
   ],
   "source": [
    "exec(open(\"inc_notebook_jawad.py\").read())"
   ]
  },
  {
   "cell_type": "code",
   "execution_count": 2,
   "metadata": {},
   "outputs": [
    {
     "name": "stderr",
     "output_type": "stream",
     "text": [
      "Using TensorFlow backend.\n",
      "WARNING:root:Limiting GPU to 0.8. Increase it in initKeras.py. Next is available GPUs\n"
     ]
    },
    {
     "name": "stdout",
     "output_type": "stream",
     "text": [
      "WARNING:tensorflow:From C:\\Users\\abjawad\\AppData\\Local\\Continuum\\anaconda3\\envs\\tf1xpy36\\lib\\site-packages\\keras\\backend\\tensorflow_backend.py:174: The name tf.get_default_session is deprecated. Please use tf.compat.v1.get_default_session instead.\n",
      "\n"
     ]
    },
    {
     "name": "stderr",
     "output_type": "stream",
     "text": [
      "WARNING:tensorflow:From C:\\Users\\abjawad\\AppData\\Local\\Continuum\\anaconda3\\envs\\tf1xpy36\\lib\\site-packages\\keras\\backend\\tensorflow_backend.py:174: The name tf.get_default_session is deprecated. Please use tf.compat.v1.get_default_session instead.\n",
      "\n"
     ]
    },
    {
     "name": "stdout",
     "output_type": "stream",
     "text": [
      "WARNING:tensorflow:From C:\\Users\\abjawad\\AppData\\Local\\Continuum\\anaconda3\\envs\\tf1xpy36\\lib\\site-packages\\keras\\backend\\tensorflow_backend.py:190: The name tf.global_variables is deprecated. Please use tf.compat.v1.global_variables instead.\n",
      "\n"
     ]
    },
    {
     "name": "stderr",
     "output_type": "stream",
     "text": [
      "WARNING:tensorflow:From C:\\Users\\abjawad\\AppData\\Local\\Continuum\\anaconda3\\envs\\tf1xpy36\\lib\\site-packages\\keras\\backend\\tensorflow_backend.py:190: The name tf.global_variables is deprecated. Please use tf.compat.v1.global_variables instead.\n",
      "\n",
      "WARNING:root:['/job:localhost/replica:0/task:0/device:GPU:0']\n"
     ]
    }
   ],
   "source": [
    "import logging, sys, math,os\n",
    "exec(open(\"classifiers/initKeras.py\").read())"
   ]
  },
  {
   "cell_type": "code",
   "execution_count": 4,
   "metadata": {},
   "outputs": [
    {
     "name": "stderr",
     "output_type": "stream",
     "text": [
      "WARNING:root:LivePlotKeras loaded\n"
     ]
    }
   ],
   "source": [
    "from datetime import datetime\n",
    "import os\n",
    "import numpy as np\n",
    "from matplotlib import pyplot as plt\n",
    "%matplotlib qt\n",
    "import seaborn as sns\n",
    "sns.set(style=\"darkgrid\")\n",
    "\n",
    "if sys.modules.get( 'library.LivePlotKeras', False ) != False :\n",
    "    del sys.modules['library.LivePlotKeras'] \n",
    "if sys.modules.get( 'LivePlotKeras', False ) != False :\n",
    "    del sys.modules['LivePlotKeras'] \n",
    "from library.LivePlotKeras import *\n",
    "\n",
    "logging.warning( \"LivePlotKeras loaded\" )\n",
    "\n",
    "livePlotKeras = LivePlotKeras()"
   ]
  },
  {
   "cell_type": "code",
   "execution_count": 8,
   "metadata": {},
   "outputs": [
    {
     "data": {
      "text/plain": [
       "{'folder': 'data/quickdraw-raw',\n",
       " 'countClasses': 7,\n",
       " 'countItems': 1129934,\n",
       " 'classes': {'aircraft_carrier': 116504,\n",
       "  'airplane': 151623,\n",
       "  'angel': 149736,\n",
       "  'ant': 124612,\n",
       "  'apple': 144722,\n",
       "  'banana': 307936,\n",
       "  'The_Eiffel_Tower': 134801},\n",
       " 'maxPerClass': 307936}"
      ]
     },
     "execution_count": 8,
     "metadata": {},
     "output_type": "execute_result"
    }
   ],
   "source": [
    "if sys.modules.get( 'dataProcessors.DoodleDataStats', False ) != False :\n",
    "    del sys.modules['dataProcessors.DoodleDataStats'] \n",
    "if sys.modules.get( 'DoodleDataStats', False ) != False :\n",
    "    del sys.modules['DoodleDataStats'] \n",
    "    \n",
    "from dataProcessors.DoodleDataStats import DoodleDataStats\n",
    "dataStats = DoodleDataStats(\"folder\")\n",
    "dataStats.loadFromPersistentCacheByDate(datetime(2019, 11, 21))"
   ]
  },
  {
   "cell_type": "code",
   "execution_count": 10,
   "metadata": {},
   "outputs": [],
   "source": [
    "if sys.modules.get( 'dataProcessors.DoodleDataGeneratorByClass', False ) != False :\n",
    "    del sys.modules['dataProcessors.DoodleDataGeneratorByClass'] \n",
    "if sys.modules.get( 'DoodleDataGeneratorByClass', False ) != False :\n",
    "    del sys.modules['DoodleDataGeneratorByClass'] \n",
    "    \n",
    "from dataProcessors.DoodleDataGeneratorByClass import DoodleDataGeneratorByClass\n",
    "\n",
    "trainGenerator = DoodleDataGeneratorByClass(dataStats.stats,split=0.7, part='first', batch_size = 32, batchesPerEpoch = 10000)\n",
    "validationGenerator = DoodleDataGeneratorByClass(dataStats.stats,split=0.7, part='second', batch_size = 32, batchesPerEpoch = 3000)"
   ]
  },
  {
   "cell_type": "code",
   "execution_count": 11,
   "metadata": {},
   "outputs": [
    {
     "name": "stdout",
     "output_type": "stream",
     "text": [
      "WARNING:tensorflow:From C:\\Users\\abjawad\\AppData\\Local\\Continuum\\anaconda3\\envs\\tf1xpy36\\lib\\site-packages\\keras\\backend\\tensorflow_backend.py:74: The name tf.get_default_graph is deprecated. Please use tf.compat.v1.get_default_graph instead.\n",
      "\n"
     ]
    },
    {
     "name": "stderr",
     "output_type": "stream",
     "text": [
      "WARNING:tensorflow:From C:\\Users\\abjawad\\AppData\\Local\\Continuum\\anaconda3\\envs\\tf1xpy36\\lib\\site-packages\\keras\\backend\\tensorflow_backend.py:74: The name tf.get_default_graph is deprecated. Please use tf.compat.v1.get_default_graph instead.\n",
      "\n"
     ]
    },
    {
     "name": "stdout",
     "output_type": "stream",
     "text": [
      "WARNING:tensorflow:From C:\\Users\\abjawad\\AppData\\Local\\Continuum\\anaconda3\\envs\\tf1xpy36\\lib\\site-packages\\keras\\backend\\tensorflow_backend.py:517: The name tf.placeholder is deprecated. Please use tf.compat.v1.placeholder instead.\n",
      "\n"
     ]
    },
    {
     "name": "stderr",
     "output_type": "stream",
     "text": [
      "WARNING:tensorflow:From C:\\Users\\abjawad\\AppData\\Local\\Continuum\\anaconda3\\envs\\tf1xpy36\\lib\\site-packages\\keras\\backend\\tensorflow_backend.py:517: The name tf.placeholder is deprecated. Please use tf.compat.v1.placeholder instead.\n",
      "\n"
     ]
    },
    {
     "name": "stdout",
     "output_type": "stream",
     "text": [
      "WARNING:tensorflow:From C:\\Users\\abjawad\\AppData\\Local\\Continuum\\anaconda3\\envs\\tf1xpy36\\lib\\site-packages\\keras\\backend\\tensorflow_backend.py:4138: The name tf.random_uniform is deprecated. Please use tf.random.uniform instead.\n",
      "\n"
     ]
    },
    {
     "name": "stderr",
     "output_type": "stream",
     "text": [
      "WARNING:tensorflow:From C:\\Users\\abjawad\\AppData\\Local\\Continuum\\anaconda3\\envs\\tf1xpy36\\lib\\site-packages\\keras\\backend\\tensorflow_backend.py:4138: The name tf.random_uniform is deprecated. Please use tf.random.uniform instead.\n",
      "\n"
     ]
    },
    {
     "name": "stdout",
     "output_type": "stream",
     "text": [
      "WARNING:tensorflow:From C:\\Users\\abjawad\\AppData\\Local\\Continuum\\anaconda3\\envs\\tf1xpy36\\lib\\site-packages\\keras\\backend\\tensorflow_backend.py:133: The name tf.placeholder_with_default is deprecated. Please use tf.compat.v1.placeholder_with_default instead.\n",
      "\n"
     ]
    },
    {
     "name": "stderr",
     "output_type": "stream",
     "text": [
      "WARNING:tensorflow:From C:\\Users\\abjawad\\AppData\\Local\\Continuum\\anaconda3\\envs\\tf1xpy36\\lib\\site-packages\\keras\\backend\\tensorflow_backend.py:133: The name tf.placeholder_with_default is deprecated. Please use tf.compat.v1.placeholder_with_default instead.\n",
      "\n"
     ]
    },
    {
     "name": "stdout",
     "output_type": "stream",
     "text": [
      "WARNING:tensorflow:From C:\\Users\\abjawad\\AppData\\Local\\Continuum\\anaconda3\\envs\\tf1xpy36\\lib\\site-packages\\keras\\backend\\tensorflow_backend.py:3445: calling dropout (from tensorflow.python.ops.nn_ops) with keep_prob is deprecated and will be removed in a future version.\n",
      "Instructions for updating:\n",
      "Please use `rate` instead of `keep_prob`. Rate should be set to `rate = 1 - keep_prob`.\n"
     ]
    },
    {
     "name": "stderr",
     "output_type": "stream",
     "text": [
      "WARNING:tensorflow:From C:\\Users\\abjawad\\AppData\\Local\\Continuum\\anaconda3\\envs\\tf1xpy36\\lib\\site-packages\\keras\\backend\\tensorflow_backend.py:3445: calling dropout (from tensorflow.python.ops.nn_ops) with keep_prob is deprecated and will be removed in a future version.\n",
      "Instructions for updating:\n",
      "Please use `rate` instead of `keep_prob`. Rate should be set to `rate = 1 - keep_prob`.\n"
     ]
    },
    {
     "name": "stdout",
     "output_type": "stream",
     "text": [
      "WARNING:tensorflow:From C:\\Users\\abjawad\\AppData\\Local\\Continuum\\anaconda3\\envs\\tf1xpy36\\lib\\site-packages\\keras\\backend\\tensorflow_backend.py:3976: The name tf.nn.max_pool is deprecated. Please use tf.nn.max_pool2d instead.\n",
      "\n"
     ]
    },
    {
     "name": "stderr",
     "output_type": "stream",
     "text": [
      "WARNING:tensorflow:From C:\\Users\\abjawad\\AppData\\Local\\Continuum\\anaconda3\\envs\\tf1xpy36\\lib\\site-packages\\keras\\backend\\tensorflow_backend.py:3976: The name tf.nn.max_pool is deprecated. Please use tf.nn.max_pool2d instead.\n",
      "\n"
     ]
    },
    {
     "name": "stdout",
     "output_type": "stream",
     "text": [
      "WARNING:tensorflow:From C:\\Users\\abjawad\\AppData\\Local\\Continuum\\anaconda3\\envs\\tf1xpy36\\lib\\site-packages\\keras\\backend\\tensorflow_backend.py:2018: The name tf.image.resize_nearest_neighbor is deprecated. Please use tf.compat.v1.image.resize_nearest_neighbor instead.\n",
      "\n"
     ]
    },
    {
     "name": "stderr",
     "output_type": "stream",
     "text": [
      "WARNING:tensorflow:From C:\\Users\\abjawad\\AppData\\Local\\Continuum\\anaconda3\\envs\\tf1xpy36\\lib\\site-packages\\keras\\backend\\tensorflow_backend.py:2018: The name tf.image.resize_nearest_neighbor is deprecated. Please use tf.compat.v1.image.resize_nearest_neighbor instead.\n",
      "\n"
     ]
    },
    {
     "name": "stdout",
     "output_type": "stream",
     "text": [
      "WARNING:tensorflow:From C:\\Users\\abjawad\\AppData\\Local\\Continuum\\anaconda3\\envs\\tf1xpy36\\lib\\site-packages\\keras\\optimizers.py:790: The name tf.train.Optimizer is deprecated. Please use tf.compat.v1.train.Optimizer instead.\n",
      "\n"
     ]
    },
    {
     "name": "stderr",
     "output_type": "stream",
     "text": [
      "WARNING:tensorflow:From C:\\Users\\abjawad\\AppData\\Local\\Continuum\\anaconda3\\envs\\tf1xpy36\\lib\\site-packages\\keras\\optimizers.py:790: The name tf.train.Optimizer is deprecated. Please use tf.compat.v1.train.Optimizer instead.\n",
      "\n"
     ]
    }
   ],
   "source": [
    "if sys.modules.get( 'classifiers.ClassifierFactory', False ) != False :\n",
    "    del sys.modules['classifiers.ClassifierFactory'] \n",
    "if sys.modules.get( 'ClassifierFactory', False ) != False :\n",
    "    del sys.modules['ClassifierFactory'] \n",
    "    \n",
    "from classifiers.ClassifierFactory import ClassifierFactory\n",
    "classifierFactory = ClassifierFactory()\n",
    "\n",
    "model = classifierFactory.create(\n",
    "    template = 'UpSampling',\n",
    "    outputClasses = dataStats.stats['countClasses'],\n",
    "    inputShape = (28, 28, 1)\n",
    ")"
   ]
  },
  {
   "cell_type": "code",
   "execution_count": 7,
   "metadata": {},
   "outputs": [],
   "source": [
    "# model.summary()"
   ]
  },
  {
   "cell_type": "code",
   "execution_count": null,
   "metadata": {},
   "outputs": [
    {
     "name": "stdout",
     "output_type": "stream",
     "text": [
      "Epoch 2/10\n",
      " 2152/10000 [=====>........................] - ETA: 29:58 - loss: 0.2451 - categorical_accuracy: 0.1422 - mean_squared_error: 0.2451 - mean_absolute_error: 0.2451"
     ]
    }
   ],
   "source": [
    "history = model.fit_generator( \n",
    "                    generator=trainGenerator,\n",
    "                    validation_data=validationGenerator,\n",
    "                    use_multiprocessing=False, \n",
    "                    workers=3, \n",
    "                    initial_epoch = 0,\n",
    "                    epochs=10,\n",
    "                    max_q_size = 100,\n",
    "                    steps_per_epoch = trainGenerator.n_batches,\n",
    "                    validation_steps = validationGenerator.n_batches,\n",
    "                    callbacks = [livePlotKeras]\n",
    "                   )"
   ]
  },
  {
   "cell_type": "code",
   "execution_count": null,
   "metadata": {},
   "outputs": [],
   "source": []
  }
 ],
 "metadata": {
  "kernelspec": {
   "display_name": "Python 3",
   "language": "python",
   "name": "python3"
  },
  "language_info": {
   "codemirror_mode": {
    "name": "ipython",
    "version": 3
   },
   "file_extension": ".py",
   "mimetype": "text/x-python",
   "name": "python",
   "nbconvert_exporter": "python",
   "pygments_lexer": "ipython3",
   "version": "3.6.9"
  }
 },
 "nbformat": 4,
 "nbformat_minor": 2
}
