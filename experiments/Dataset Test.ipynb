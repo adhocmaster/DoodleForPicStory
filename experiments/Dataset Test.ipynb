{
 "cells": [
  {
   "cell_type": "code",
   "execution_count": 8,
   "metadata": {},
   "outputs": [],
   "source": [
    "src = '../data/quickdraw-raw'"
   ]
  },
  {
   "cell_type": "code",
   "execution_count": 9,
   "metadata": {},
   "outputs": [],
   "source": [
    "import numpy as np\n",
    "from PIL import Image\n",
    "import math\n",
    "import glob "
   ]
  },
  {
   "cell_type": "code",
   "execution_count": 12,
   "metadata": {},
   "outputs": [],
   "source": [
    "appleSrc = src + '/full_numpy_bitmap_apple.npy'\n",
    "appleNp = np.load(appleSrc)"
   ]
  },
  {
   "cell_type": "code",
   "execution_count": 13,
   "metadata": {},
   "outputs": [
    {
     "data": {
      "text/plain": [
       "(144722, 784)"
      ]
     },
     "execution_count": 13,
     "metadata": {},
     "output_type": "execute_result"
    }
   ],
   "source": [
    "appleNp.shape"
   ]
  },
  {
   "cell_type": "code",
   "execution_count": 24,
   "metadata": {},
   "outputs": [],
   "source": [
    "anApple = appleNp[ np.random.randint(0, appleNp.shape[0]) ].reshape(28, 28)\n",
    "im = Image.fromarray(anApple)\n",
    "im.show()"
   ]
  },
  {
   "cell_type": "code",
   "execution_count": 5,
   "metadata": {},
   "outputs": [],
   "source": [
    "path = '/home/User/Documents/filesfdgsfdg sdfgsfdg.txt'\n",
    "from os.path import dirname, basename, isfile"
   ]
  },
  {
   "cell_type": "code",
   "execution_count": 6,
   "metadata": {},
   "outputs": [
    {
     "data": {
      "text/plain": [
       "'filesfdgsfdg sdfgsfdg'"
      ]
     },
     "execution_count": 6,
     "metadata": {},
     "output_type": "execute_result"
    }
   ],
   "source": [
    "basename(path)[:-4]"
   ]
  },
  {
   "cell_type": "code",
   "execution_count": 12,
   "metadata": {},
   "outputs": [
    {
     "data": {
      "text/plain": [
       "['../data/quickdraw-raw\\\\full_numpy_bitmap_aircraft carrier.npy',\n",
       " '../data/quickdraw-raw\\\\full_numpy_bitmap_airplane.npy',\n",
       " '../data/quickdraw-raw\\\\full_numpy_bitmap_angel.npy',\n",
       " '../data/quickdraw-raw\\\\full_numpy_bitmap_ant.npy',\n",
       " '../data/quickdraw-raw\\\\full_numpy_bitmap_apple.npy',\n",
       " '../data/quickdraw-raw\\\\full_numpy_bitmap_banana.npy',\n",
       " '../data/quickdraw-raw\\\\full_numpy_bitmap_The Eiffel Tower.npy']"
      ]
     },
     "execution_count": 12,
     "metadata": {},
     "output_type": "execute_result"
    }
   ],
   "source": [
    "glob.glob(src + '/*.npy')"
   ]
  },
  {
   "cell_type": "code",
   "execution_count": 14,
   "metadata": {},
   "outputs": [
    {
     "data": {
      "text/plain": [
       "'The_Eiffel_Tower'"
      ]
     },
     "execution_count": 14,
     "metadata": {},
     "output_type": "execute_result"
    }
   ],
   "source": [
    "'full_numpy_bitmap_The Eiffel Tower'.replace(\"full_numpy_bitmap_\", \"\").replace(\" \", \"_\")"
   ]
  },
  {
   "cell_type": "code",
   "execution_count": 24,
   "metadata": {},
   "outputs": [
    {
     "data": {
      "text/plain": [
       "'full_numpy_bitmap_airplane'"
      ]
     },
     "execution_count": 24,
     "metadata": {},
     "output_type": "execute_result"
    }
   ],
   "source": [
    "basename('data/quickdraw-raw\\\\full_numpy_bitmap_airplane.npy'.replace('\\\\','\\/'))[:-4]"
   ]
  },
  {
   "cell_type": "code",
   "execution_count": 22,
   "metadata": {},
   "outputs": [
    {
     "data": {
      "text/plain": [
       "'data/quickdraw-raw/full_numpy_bitmap_airplane.npy'"
      ]
     },
     "execution_count": 22,
     "metadata": {},
     "output_type": "execute_result"
    }
   ],
   "source": [
    "'data/quickdraw-raw\\\\full_numpy_bitmap_airplane.npy'.replace('\\\\','/')"
   ]
  },
  {
   "cell_type": "code",
   "execution_count": null,
   "metadata": {},
   "outputs": [],
   "source": []
  }
 ],
 "metadata": {
  "kernelspec": {
   "display_name": "Python 3",
   "language": "python",
   "name": "python3"
  },
  "language_info": {
   "codemirror_mode": {
    "name": "ipython",
    "version": 3
   },
   "file_extension": ".py",
   "mimetype": "text/x-python",
   "name": "python",
   "nbconvert_exporter": "python",
   "pygments_lexer": "ipython3",
   "version": "3.6.9"
  }
 },
 "nbformat": 4,
 "nbformat_minor": 2
}
